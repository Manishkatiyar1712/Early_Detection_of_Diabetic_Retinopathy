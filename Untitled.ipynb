{
 "cells": [
  {
   "cell_type": "code",
   "execution_count": 7,
   "id": "83faa56f-fc45-442d-b86c-66062b39809a",
   "metadata": {},
   "outputs": [
    {
     "name": "stdout",
     "output_type": "stream",
     "text": [
      " * Serving Flask app '__main__'\n",
      " * Debug mode: on\n"
     ]
    },
    {
     "name": "stderr",
     "output_type": "stream",
     "text": [
      "WARNING: This is a development server. Do not use it in a production deployment. Use a production WSGI server instead.\n",
      " * Running on http://127.0.0.1:5000\n",
      "Press CTRL+C to quit\n",
      " * Restarting with watchdog (windowsapi)\n"
     ]
    },
    {
     "ename": "SystemExit",
     "evalue": "1",
     "output_type": "error",
     "traceback": [
      "An exception has occurred, use %tb to see the full traceback.\n",
      "\u001b[1;31mSystemExit\u001b[0m\u001b[1;31m:\u001b[0m 1\n"
     ]
    }
   ],
   "source": [
    "import os\n",
    "from flask import Flask, render_template, request\n",
    "from flask_dropzone import Dropzone\n",
    "\n",
    "app = Flask(__name__)\n",
    "app.config.update(\n",
    "    UPLOADED_PATH='C:/Users/vinay/code/final year/Early_Detection_of_Diabetic_Retinopathy-main/uploads',\n",
    "    DROPZONE_MAX_FILE_SIZE=1024,\n",
    "    DROPZONE_TIMEOUT=5 * 60 * 1000\n",
    ")\n",
    "for filename in os.listdir(app.config['UPLOADED_PATH']):\n",
    "            file_path = os.path.join(app.config['UPLOADED_PATH'], filename)\n",
    "            os.remove(file_path)\n",
    "\n",
    "dropzone = Dropzone(app)\n",
    "\n",
    "@app.route('/', methods=['POST', 'GET'])\n",
    "def upload():\n",
    "    if request.method == 'POST':\n",
    "        f = request.files.get('file')\n",
    "\n",
    "        # Get the specified filename from the request\n",
    "        new_filename = request.form.get('new_filename')\n",
    "\n",
    "        # Save the file with the specified filename\n",
    "        f.save(os.path.join(app.config['UPLOADED_PATH'], new_filename))\n",
    "\n",
    "    return render_template('index.html')\n",
    "\n",
    "if __name__ == '__main__':\n",
    "    app.run(debug=True)\n"
   ]
  },
  {
   "cell_type": "code",
   "execution_count": null,
   "id": "7e358bad-c83e-4c69-9319-dcd396739282",
   "metadata": {},
   "outputs": [],
   "source": []
  }
 ],
 "metadata": {
  "kernelspec": {
   "display_name": "Python 3 (ipykernel)",
   "language": "python",
   "name": "python3"
  },
  "language_info": {
   "codemirror_mode": {
    "name": "ipython",
    "version": 3
   },
   "file_extension": ".py",
   "mimetype": "text/x-python",
   "name": "python",
   "nbconvert_exporter": "python",
   "pygments_lexer": "ipython3",
   "version": "3.10.9"
  }
 },
 "nbformat": 4,
 "nbformat_minor": 5
}
