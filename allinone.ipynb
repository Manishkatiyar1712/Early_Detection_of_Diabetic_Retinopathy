{
 "cells": [
  {
   "cell_type": "code",
   "execution_count": 1,
   "id": "5a15fd62-377b-4884-9af8-1a8e4de611db",
   "metadata": {},
   "outputs": [],
   "source": [
    "import fitz\n",
    "import os\n",
    "from PIL import Image\n",
    "import pandas as pd\n",
    "from collections import Counter\n",
    "import numpy as np\n",
    "import os\n",
    "import tensorflow as tf\n",
    "from tensorflow import keras\n",
    "import matplotlib.pyplot as plt\n",
    "import PIL\n",
    "from PIL import Image\n",
    "import seaborn as sns\n",
    "import plotly\n",
    "import plotly.graph_objs as go\n",
    "from sklearn.model_selection import train_test_split\n",
    "from sklearn.utils import shuffle\n",
    "from plotly.offline import iplot, init_notebook_mode\n",
    "from tensorflow.keras.preprocessing.image import ImageDataGenerator\n",
    "from tensorflow.keras.applications.resnet50 import ResNet50\n",
    "from tensorflow.keras.applications.inception_resnet_v2 import InceptionResNetV2\n",
    "from tensorflow.keras.layers import *\n",
    "from tensorflow.keras.models import Model, load_model\n",
    "from tensorflow.keras.initializers import glorot_uniform\n",
    "from tensorflow.keras.utils import plot_model\n",
    "from IPython.display import display\n",
    "from tensorflow.keras import backend as K\n",
    "from tensorflow.keras.optimizers import SGD\n",
    "from tensorflow.keras.preprocessing.image import ImageDataGenerator\n",
    "from tensorflow.keras.models import Model, Sequential\n",
    "from tensorflow.keras.callbacks import ReduceLROnPlateau, EarlyStopping, ModelCheckpoint, LearningRateScheduler"
   ]
  },
  {
   "cell_type": "code",
   "execution_count": 2,
   "id": "098e748f-00bc-4663-aa64-06aa0fb59b0d",
   "metadata": {},
   "outputs": [],
   "source": [
    "dir_path = \"C:/Users/vinay/code/final year/Early_Detection_of_Diabetic_Retinopathy-main/images\"\n",
    "for filename in os.listdir(dir_path):\n",
    "        file_path = os.path.join(dir_path, filename)\n",
    "        os.remove(file_path)"
   ]
  },
  {
   "cell_type": "code",
   "execution_count": 3,
   "id": "7a8a55ad-c651-466e-a810-cfdeede9668c",
   "metadata": {},
   "outputs": [],
   "source": [
    "# Assigning label names to the corresponding indexes\n",
    "labels = {0: 'Mild', 1: 'Moderate', 2: 'No_DR', 3:'Proliferate_DR', 4: 'Severe'}"
   ]
  },
  {
   "cell_type": "code",
   "execution_count": 4,
   "id": "40d5423b-c64b-47d9-a258-e700e90a8f68",
   "metadata": {},
   "outputs": [],
   "source": [
    "file_path = 'mild.pdf'\n",
    "\n",
    "#Define path for saved images\n",
    "images_path = 'images/'\n",
    "def pdf(file_path,images_path):\n",
    "\n",
    "#Open PDF file\n",
    "    pdf_file = fitz.open(file_path)\n",
    "\n",
    "#Get the number of pages in PDF file\n",
    "    page_nums = len(pdf_file)\n",
    "\n",
    "#Create empty list to store images information\n",
    "    images_list = []\n",
    "\n",
    "#Extract all images information from each page\n",
    "    for page_num in range(page_nums):\n",
    "        page_content = pdf_file[page_num]\n",
    "        images_list.extend(page_content.get_images())\n",
    "\n",
    "#Raise error if PDF has no images\n",
    "    if len(images_list)==0:\n",
    "        raise ValueError(f'No images found in {file_path}')\n",
    "\n",
    "#Save all the extracted images\n",
    "    for i, img in enumerate(images_list, start=1):\n",
    "    #Extract the image object number\n",
    "        xref = img[0]\n",
    "    #Extract image\n",
    "        base_image = pdf_file.extract_image(xref)\n",
    "    #Store image bytes\n",
    "        image_bytes = base_image['image']\n",
    "    #Store image extension\n",
    "        image_ext = base_image['ext']\n",
    "    #Generate image file name\n",
    "        image_name = str(i) + '.' + image_ext\n",
    "    #Save image\n",
    "        with open(os.path.join(images_path, image_name) , 'wb') as image_file:\n",
    "            image_file.write(image_bytes)\n",
    "            image_file.close()"
   ]
  },
  {
   "cell_type": "code",
   "execution_count": 5,
   "id": "1291d32b-93b6-41d3-864d-99200c20be44",
   "metadata": {},
   "outputs": [],
   "source": [
    "pdf(file_path,images_path)"
   ]
  },
  {
   "cell_type": "code",
   "execution_count": 6,
   "id": "27862751-32a9-4181-a7f2-bce9012781ea",
   "metadata": {},
   "outputs": [],
   "source": [
    "# Check if the directory is empty\n",
    "if not os.listdir(dir_path):\n",
    "    print(\"Directory is empty\")\n",
    "else:\n",
    "    \n",
    "    image = []\n",
    "    # Loop through all files in the directory\n",
    "    for filename in os.listdir(dir_path):\n",
    "        # Check if the file is an image (you can add more extensions if needed)\n",
    "        if filename.endswith(\".jpg\") or filename.endswith(\".png\") or filename.endswith(\".jpeg\"):\n",
    "            # Construct the full file path\n",
    "            file_path = os.path.join(dir_path, filename)\n",
    "            # Open the image\n",
    "            img = Image.open(file_path)\n",
    "            img = img.resize((256,256))\n",
    "            #appending image to the image list\n",
    "            image.append(img)\n",
    "            "
   ]
  },
  {
   "cell_type": "code",
   "execution_count": 8,
   "id": "fcc7f111-329e-4f59-9b9a-045f4fafa2ff",
   "metadata": {},
   "outputs": [],
   "source": [
    "lm = tf.keras.models.load_model('my_model')"
   ]
  },
  {
   "cell_type": "code",
   "execution_count": 9,
   "id": "85278286-69ab-45e9-ac83-fe33b0e44b97",
   "metadata": {},
   "outputs": [
    {
     "name": "stdout",
     "output_type": "stream",
     "text": [
      "1/1 [==============================] - 1s 707ms/step\n",
      "1/1 [==============================] - 0s 55ms/step\n",
      "1/1 [==============================] - 0s 62ms/step\n"
     ]
    }
   ],
   "source": [
    "lab=[]\n",
    "for img in image:\n",
    "    img = np.asarray(img, dtype= np.float32)\n",
    "    #normalizing the image\n",
    "    img = img / 255\n",
    "    #reshaping the image in to a 4D array\n",
    "    img = img.reshape(-1,256,256,3)\n",
    "    #making prediction of the model\n",
    "    predict = lm.predict(img)\n",
    "    #getting the index corresponding to the highest value in the prediction\n",
    "    predict = np.argmax(predict)\n",
    "    #appending the predicted class to the list\n",
    "    lab.append(labels[predict])"
   ]
  },
  {
   "cell_type": "code",
   "execution_count": 10,
   "id": "afb56ffb-e911-4f4c-b307-0658ae98b706",
   "metadata": {},
   "outputs": [
    {
     "name": "stdout",
     "output_type": "stream",
     "text": [
      "Maximum occurring string: Mild\n"
     ]
    }
   ],
   "source": [
    "counts = Counter(lab)\n",
    "\n",
    "# Find the string with the maximum count\n",
    "max_occuring_string = max(counts, key=counts.get)\n",
    "\n",
    "# Print the maximum occurring string\n",
    "print(\"Maximum occurring string:\", max_occuring_string)"
   ]
  },
  {
   "cell_type": "code",
   "execution_count": null,
   "id": "d55948ad-edad-48fe-be2d-a4249bfc6de6",
   "metadata": {},
   "outputs": [],
   "source": []
  }
 ],
 "metadata": {
  "kernelspec": {
   "display_name": "Python 3 (ipykernel)",
   "language": "python",
   "name": "python3"
  },
  "language_info": {
   "codemirror_mode": {
    "name": "ipython",
    "version": 3
   },
   "file_extension": ".py",
   "mimetype": "text/x-python",
   "name": "python",
   "nbconvert_exporter": "python",
   "pygments_lexer": "ipython3",
   "version": "3.10.9"
  }
 },
 "nbformat": 4,
 "nbformat_minor": 5
}
